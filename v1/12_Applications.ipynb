{
 "cells": [
  {
   "cell_type": "markdown",
   "metadata": {},
   "source": [
    "# Setting up the notebook"
   ]
  },
  {
   "cell_type": "code",
   "execution_count": 1,
   "metadata": {
    "collapsed": false
   },
   "outputs": [
    {
     "name": "stderr",
     "output_type": "stream",
     "text": [
      "/Users/michaelheydt/anaconda/lib/python3.5/site-packages/pandas/io/data.py:35: FutureWarning: \n",
      "The pandas.io.data module is moved to a separate package (pandas-datareader) and will be removed from pandas in a future version.\n",
      "After installing the pandas-datareader package (https://github.com/pydata/pandas-datareader), you can change the import ``from pandas.io import data, wb`` to ``from pandas_datareader import data, wb``.\n",
      "  FutureWarning)\n"
     ]
    }
   ],
   "source": [
    "# necessary imports for the workbook\n",
    "import pandas as pd\n",
    "import pandas.io.data\n",
    "import numpy as np\n",
    "import datetime\n",
    "import matplotlib.pyplot as plt\n",
    "\n",
    "# Set some pandas options\n",
    "pd.set_option('display.notebook_repr_html', False)\n",
    "pd.set_option('display.max_columns', 6)\n",
    "pd.set_option('display.max_rows', 10) \n",
    "pd.set_option('display.width', 78) \n",
    "pd.set_option('precision', 4)\n",
    "\n",
    "# do all our graphics inline\n",
    "%matplotlib inline"
   ]
  },
  {
   "cell_type": "markdown",
   "metadata": {},
   "source": [
    "# Obtaining and organizing stock data from Yahoo!"
   ]
  },
  {
   "cell_type": "code",
   "execution_count": 2,
   "metadata": {
    "collapsed": false
   },
   "outputs": [],
   "source": [
    "# read data from Yahoo! Finance for a specific \n",
    "# stock specified by ticker and between the start and end dates\n",
    "def getStockData(ticker, start, end):\n",
    "    # read the data\n",
    "    data = pd.io.data.DataReader(ticker, \"yahoo\", start, end)\n",
    "    # rename this column\n",
    "    data.rename(columns={'Adj Close': 'AdjClose'}, inplace=True)\n",
    "    # insert in the ticker as a column\n",
    "    data.insert(0, \"Ticker\", ticker)\n",
    "    return data"
   ]
  },
  {
   "cell_type": "code",
   "execution_count": 3,
   "metadata": {
    "collapsed": false
   },
   "outputs": [
    {
     "data": {
      "text/plain": [
       "           Ticker   Open   High    ...     Close    Volume  AdjClose\n",
       "Date                               ...                              \n",
       "2012-01-03   MSFT  26.55  26.96    ...     26.77  64731500   23.3043\n",
       "2012-01-04   MSFT  26.82  27.47    ...     27.40  80516100   23.8528\n",
       "2012-01-05   MSFT  27.38  27.73    ...     27.68  56081400   24.0965\n",
       "2012-01-06   MSFT  27.53  28.19    ...     28.11  99455500   24.4708\n",
       "2012-01-09   MSFT  28.05  28.10    ...     27.74  59706800   24.1487\n",
       "\n",
       "[5 rows x 7 columns]"
      ]
     },
     "execution_count": 3,
     "metadata": {},
     "output_type": "execute_result"
    }
   ],
   "source": [
    "# request the three years of data for MSFT\n",
    "start = datetime.datetime(2012, 1, 1)\n",
    "end = datetime.datetime(2014, 12, 31)\n",
    "getStockData(\"MSFT\", start, end).head()"
   ]
  },
  {
   "cell_type": "code",
   "execution_count": 4,
   "metadata": {
    "collapsed": false
   },
   "outputs": [],
   "source": [
    "# gets data for multiple stocks\n",
    "# tickers: a list of stock symbols to fetch\n",
    "# start and end are the start end end dates\n",
    "def getDataForMultipleStocks(tickers, start, end):\n",
    "    # we return a dictionary\n",
    "    stocks = dict()\n",
    "    # loop through all the tickers\n",
    "    for ticker in tickers:\n",
    "        # get the data for the specific ticker\n",
    "        s = getStockData(ticker, start, end)\n",
    "        # add it to the dictionary\n",
    "        stocks[ticker] = s\n",
    "    # return the dictionary\n",
    "    return stocks"
   ]
  },
  {
   "cell_type": "code",
   "execution_count": 5,
   "metadata": {
    "collapsed": false
   },
   "outputs": [
    {
     "ename": "OSError",
     "evalue": "after 3 tries, Yahoo! did not return a 200 for url 'http://ichart.finance.yahoo.com/table.csv?s=AA&a=0&b=1&c=2012&d=11&e=31&f=2014&g=d&ignore=.csv'",
     "output_type": "error",
     "traceback": [
      "\u001b[0;31m---------------------------------------------------------------------------\u001b[0m",
      "\u001b[0;31mOSError\u001b[0m                                   Traceback (most recent call last)",
      "\u001b[0;32m<ipython-input-5-87b934ad2477>\u001b[0m in \u001b[0;36m<module>\u001b[0;34m()\u001b[0m\n\u001b[1;32m      3\u001b[0m     [\"MSFT\", \"AAPL\", \"GE\", \"IBM\", \"AA\", \"DAL\", \n\u001b[1;32m      4\u001b[0m      \"UAL\", \"PEP\", \"KO\"],\n\u001b[0;32m----> 5\u001b[0;31m     start, end)\n\u001b[0m",
      "\u001b[0;32m<ipython-input-4-75e0108a6bee>\u001b[0m in \u001b[0;36mgetDataForMultipleStocks\u001b[0;34m(tickers, start, end)\u001b[0m\n\u001b[1;32m      8\u001b[0m     \u001b[0;32mfor\u001b[0m \u001b[0mticker\u001b[0m \u001b[0;32min\u001b[0m \u001b[0mtickers\u001b[0m\u001b[0;34m:\u001b[0m\u001b[0;34m\u001b[0m\u001b[0m\n\u001b[1;32m      9\u001b[0m         \u001b[0;31m# get the data for the specific ticker\u001b[0m\u001b[0;34m\u001b[0m\u001b[0;34m\u001b[0m\u001b[0m\n\u001b[0;32m---> 10\u001b[0;31m         \u001b[0ms\u001b[0m \u001b[0;34m=\u001b[0m \u001b[0mgetStockData\u001b[0m\u001b[0;34m(\u001b[0m\u001b[0mticker\u001b[0m\u001b[0;34m,\u001b[0m \u001b[0mstart\u001b[0m\u001b[0;34m,\u001b[0m \u001b[0mend\u001b[0m\u001b[0;34m)\u001b[0m\u001b[0;34m\u001b[0m\u001b[0m\n\u001b[0m\u001b[1;32m     11\u001b[0m         \u001b[0;31m# add it to the dictionary\u001b[0m\u001b[0;34m\u001b[0m\u001b[0;34m\u001b[0m\u001b[0m\n\u001b[1;32m     12\u001b[0m         \u001b[0mstocks\u001b[0m\u001b[0;34m[\u001b[0m\u001b[0mticker\u001b[0m\u001b[0;34m]\u001b[0m \u001b[0;34m=\u001b[0m \u001b[0ms\u001b[0m\u001b[0;34m\u001b[0m\u001b[0m\n",
      "\u001b[0;32m<ipython-input-2-b8dfa613c696>\u001b[0m in \u001b[0;36mgetStockData\u001b[0;34m(ticker, start, end)\u001b[0m\n\u001b[1;32m      3\u001b[0m \u001b[0;32mdef\u001b[0m \u001b[0mgetStockData\u001b[0m\u001b[0;34m(\u001b[0m\u001b[0mticker\u001b[0m\u001b[0;34m,\u001b[0m \u001b[0mstart\u001b[0m\u001b[0;34m,\u001b[0m \u001b[0mend\u001b[0m\u001b[0;34m)\u001b[0m\u001b[0;34m:\u001b[0m\u001b[0;34m\u001b[0m\u001b[0m\n\u001b[1;32m      4\u001b[0m     \u001b[0;31m# read the data\u001b[0m\u001b[0;34m\u001b[0m\u001b[0;34m\u001b[0m\u001b[0m\n\u001b[0;32m----> 5\u001b[0;31m     \u001b[0mdata\u001b[0m \u001b[0;34m=\u001b[0m \u001b[0mpd\u001b[0m\u001b[0;34m.\u001b[0m\u001b[0mio\u001b[0m\u001b[0;34m.\u001b[0m\u001b[0mdata\u001b[0m\u001b[0;34m.\u001b[0m\u001b[0mDataReader\u001b[0m\u001b[0;34m(\u001b[0m\u001b[0mticker\u001b[0m\u001b[0;34m,\u001b[0m \u001b[0;34m\"yahoo\"\u001b[0m\u001b[0;34m,\u001b[0m \u001b[0mstart\u001b[0m\u001b[0;34m,\u001b[0m \u001b[0mend\u001b[0m\u001b[0;34m)\u001b[0m\u001b[0;34m\u001b[0m\u001b[0m\n\u001b[0m\u001b[1;32m      6\u001b[0m     \u001b[0;31m# rename this column\u001b[0m\u001b[0;34m\u001b[0m\u001b[0;34m\u001b[0m\u001b[0m\n\u001b[1;32m      7\u001b[0m     \u001b[0mdata\u001b[0m\u001b[0;34m.\u001b[0m\u001b[0mrename\u001b[0m\u001b[0;34m(\u001b[0m\u001b[0mcolumns\u001b[0m\u001b[0;34m=\u001b[0m\u001b[0;34m{\u001b[0m\u001b[0;34m'Adj Close'\u001b[0m\u001b[0;34m:\u001b[0m \u001b[0;34m'AdjClose'\u001b[0m\u001b[0;34m}\u001b[0m\u001b[0;34m,\u001b[0m \u001b[0minplace\u001b[0m\u001b[0;34m=\u001b[0m\u001b[0;32mTrue\u001b[0m\u001b[0;34m)\u001b[0m\u001b[0;34m\u001b[0m\u001b[0m\n",
      "\u001b[0;32m/Users/michaelheydt/anaconda/lib/python3.5/site-packages/pandas/io/data.py\u001b[0m in \u001b[0;36mDataReader\u001b[0;34m(name, data_source, start, end, retry_count, pause)\u001b[0m\n\u001b[1;32m     91\u001b[0m         return get_data_yahoo(symbols=name, start=start, end=end,\n\u001b[1;32m     92\u001b[0m                               \u001b[0madjust_price\u001b[0m\u001b[0;34m=\u001b[0m\u001b[0;32mFalse\u001b[0m\u001b[0;34m,\u001b[0m \u001b[0mchunksize\u001b[0m\u001b[0;34m=\u001b[0m\u001b[0;36m25\u001b[0m\u001b[0;34m,\u001b[0m\u001b[0;34m\u001b[0m\u001b[0m\n\u001b[0;32m---> 93\u001b[0;31m                               retry_count=retry_count, pause=pause)\n\u001b[0m\u001b[1;32m     94\u001b[0m     \u001b[0;32melif\u001b[0m \u001b[0mdata_source\u001b[0m \u001b[0;34m==\u001b[0m \u001b[0;34m\"google\"\u001b[0m\u001b[0;34m:\u001b[0m\u001b[0;34m\u001b[0m\u001b[0m\n\u001b[1;32m     95\u001b[0m         return get_data_google(symbols=name, start=start, end=end,\n",
      "\u001b[0;32m/Users/michaelheydt/anaconda/lib/python3.5/site-packages/pandas/io/data.py\u001b[0m in \u001b[0;36mget_data_yahoo\u001b[0;34m(symbols, start, end, retry_count, pause, adjust_price, ret_index, chunksize, interval)\u001b[0m\n\u001b[1;32m    438\u001b[0m         \u001b[0;32mraise\u001b[0m \u001b[0mValueError\u001b[0m\u001b[0;34m(\u001b[0m\u001b[0;34m\"Invalid interval: valid values are 'd', 'w', 'm' and 'v'\"\u001b[0m\u001b[0;34m)\u001b[0m\u001b[0;34m\u001b[0m\u001b[0m\n\u001b[1;32m    439\u001b[0m     return _get_data_from(symbols, start, end, interval, retry_count, pause,\n\u001b[0;32m--> 440\u001b[0;31m                           adjust_price, ret_index, chunksize, 'yahoo')\n\u001b[0m\u001b[1;32m    441\u001b[0m \u001b[0;34m\u001b[0m\u001b[0m\n\u001b[1;32m    442\u001b[0m \u001b[0;34m\u001b[0m\u001b[0m\n",
      "\u001b[0;32m/Users/michaelheydt/anaconda/lib/python3.5/site-packages/pandas/io/data.py\u001b[0m in \u001b[0;36m_get_data_from\u001b[0;34m(symbols, start, end, interval, retry_count, pause, adjust_price, ret_index, chunksize, source)\u001b[0m\n\u001b[1;32m    379\u001b[0m     \u001b[0;31m# If a single symbol, (e.g., 'GOOG')\u001b[0m\u001b[0;34m\u001b[0m\u001b[0;34m\u001b[0m\u001b[0m\n\u001b[1;32m    380\u001b[0m     \u001b[0;32mif\u001b[0m \u001b[0misinstance\u001b[0m\u001b[0;34m(\u001b[0m\u001b[0msymbols\u001b[0m\u001b[0;34m,\u001b[0m \u001b[0;34m(\u001b[0m\u001b[0mcompat\u001b[0m\u001b[0;34m.\u001b[0m\u001b[0mstring_types\u001b[0m\u001b[0;34m,\u001b[0m \u001b[0mint\u001b[0m\u001b[0;34m)\u001b[0m\u001b[0;34m)\u001b[0m\u001b[0;34m:\u001b[0m\u001b[0;34m\u001b[0m\u001b[0m\n\u001b[0;32m--> 381\u001b[0;31m         \u001b[0mhist_data\u001b[0m \u001b[0;34m=\u001b[0m \u001b[0msrc_fn\u001b[0m\u001b[0;34m(\u001b[0m\u001b[0msymbols\u001b[0m\u001b[0;34m,\u001b[0m \u001b[0mstart\u001b[0m\u001b[0;34m,\u001b[0m \u001b[0mend\u001b[0m\u001b[0;34m,\u001b[0m \u001b[0minterval\u001b[0m\u001b[0;34m,\u001b[0m \u001b[0mretry_count\u001b[0m\u001b[0;34m,\u001b[0m \u001b[0mpause\u001b[0m\u001b[0;34m)\u001b[0m\u001b[0;34m\u001b[0m\u001b[0m\n\u001b[0m\u001b[1;32m    382\u001b[0m     \u001b[0;31m# Or multiple symbols, (e.g., ['GOOG', 'AAPL', 'MSFT'])\u001b[0m\u001b[0;34m\u001b[0m\u001b[0;34m\u001b[0m\u001b[0m\n\u001b[1;32m    383\u001b[0m     \u001b[0;32melif\u001b[0m \u001b[0misinstance\u001b[0m\u001b[0;34m(\u001b[0m\u001b[0msymbols\u001b[0m\u001b[0;34m,\u001b[0m \u001b[0mDataFrame\u001b[0m\u001b[0;34m)\u001b[0m\u001b[0;34m:\u001b[0m\u001b[0;34m\u001b[0m\u001b[0m\n",
      "\u001b[0;32m/Users/michaelheydt/anaconda/lib/python3.5/site-packages/pandas/io/data.py\u001b[0m in \u001b[0;36m_get_hist_yahoo\u001b[0;34m(sym, start, end, interval, retry_count, pause)\u001b[0m\n\u001b[1;32m    222\u001b[0m            \u001b[0;34m'&g=%s'\u001b[0m \u001b[0;34m%\u001b[0m \u001b[0minterval\u001b[0m \u001b[0;34m+\u001b[0m\u001b[0;34m\u001b[0m\u001b[0m\n\u001b[1;32m    223\u001b[0m            '&ignore=.csv')\n\u001b[0;32m--> 224\u001b[0;31m     \u001b[0;32mreturn\u001b[0m \u001b[0m_retry_read_url\u001b[0m\u001b[0;34m(\u001b[0m\u001b[0murl\u001b[0m\u001b[0;34m,\u001b[0m \u001b[0mretry_count\u001b[0m\u001b[0;34m,\u001b[0m \u001b[0mpause\u001b[0m\u001b[0;34m,\u001b[0m \u001b[0;34m'Yahoo!'\u001b[0m\u001b[0;34m)\u001b[0m\u001b[0;34m\u001b[0m\u001b[0m\n\u001b[0m\u001b[1;32m    225\u001b[0m \u001b[0;34m\u001b[0m\u001b[0m\n\u001b[1;32m    226\u001b[0m \u001b[0;34m\u001b[0m\u001b[0m\n",
      "\u001b[0;32m/Users/michaelheydt/anaconda/lib/python3.5/site-packages/pandas/io/data.py\u001b[0m in \u001b[0;36m_retry_read_url\u001b[0;34m(url, retry_count, pause, name)\u001b[0m\n\u001b[1;32m    199\u001b[0m \u001b[0;34m\u001b[0m\u001b[0m\n\u001b[1;32m    200\u001b[0m     raise IOError(\"after %d tries, %s did not \"\n\u001b[0;32m--> 201\u001b[0;31m                   \"return a 200 for url %r\" % (retry_count, name, url))\n\u001b[0m\u001b[1;32m    202\u001b[0m \u001b[0;34m\u001b[0m\u001b[0m\n\u001b[1;32m    203\u001b[0m \u001b[0;34m\u001b[0m\u001b[0m\n",
      "\u001b[0;31mOSError\u001b[0m: after 3 tries, Yahoo! did not return a 200 for url 'http://ichart.finance.yahoo.com/table.csv?s=AA&a=0&b=1&c=2012&d=11&e=31&f=2014&g=d&ignore=.csv'"
     ]
    }
   ],
   "source": [
    "# get the data for all the stocks that we want\n",
    "raw = getDataForMultipleStocks(\n",
    "    [\"MSFT\", \"AAPL\", \"GE\", \"IBM\", \"AA\", \"DAL\", \n",
    "     \"UAL\", \"PEP\", \"KO\"],\n",
    "    start, end)"
   ]
  },
  {
   "cell_type": "code",
   "execution_count": null,
   "metadata": {
    "collapsed": false
   },
   "outputs": [],
   "source": [
    "# take a peek at the data for MSFT\n",
    "raw['MSFT'][:5]"
   ]
  },
  {
   "cell_type": "code",
   "execution_count": null,
   "metadata": {
    "collapsed": false
   },
   "outputs": [],
   "source": [
    "# given the dictionary of data frames,\n",
    "# pivots a given column into values with column\n",
    "# names being the stock symbols\n",
    "def pivotTickersToColumns(raw, column):\n",
    "    items = []\n",
    "    # loop through all dictionary keys\n",
    "    for key in raw:\n",
    "        # get the data for the key\n",
    "        data = raw[key]\n",
    "        # extract just the column specified\n",
    "        subset = data[[\"Ticker\", column]]\n",
    "        # add to items\n",
    "        items.append(subset)\n",
    "    \n",
    "    # concatenate all the items\n",
    "    combined = pd.concat(items)\n",
    "    # reset the index\n",
    "    ri = combined.reset_index()\n",
    "    # return the pivot\n",
    "    return ri.pivot(\"Date\", \"Ticker\", column)"
   ]
  },
  {
   "cell_type": "code",
   "execution_count": null,
   "metadata": {
    "collapsed": false
   },
   "outputs": [],
   "source": [
    "# do the pivot\n",
    "close_px = pivotTickersToColumns(raw, \"AdjClose\")\n",
    "# peek at the result\n",
    "close_px[:5]"
   ]
  },
  {
   "cell_type": "markdown",
   "metadata": {},
   "source": [
    "## Plotting time-series prices"
   ]
  },
  {
   "cell_type": "code",
   "execution_count": null,
   "metadata": {
    "collapsed": false
   },
   "outputs": [],
   "source": [
    "# plot the closing prices of AAPL\n",
    "close_px['AAPL'].plot();"
   ]
  },
  {
   "cell_type": "code",
   "execution_count": null,
   "metadata": {
    "collapsed": false
   },
   "outputs": [],
   "source": [
    "# plot the closing prices of MSFT\n",
    "close_px['MSFT'].plot();"
   ]
  },
  {
   "cell_type": "code",
   "execution_count": null,
   "metadata": {
    "collapsed": false
   },
   "outputs": [],
   "source": [
    "# plot MSFT vs AAPL on the same chart\n",
    "close_px[['MSFT', 'AAPL']].plot();"
   ]
  },
  {
   "cell_type": "markdown",
   "metadata": {},
   "source": [
    "## Plotting volume series data"
   ]
  },
  {
   "cell_type": "code",
   "execution_count": null,
   "metadata": {
    "collapsed": false
   },
   "outputs": [],
   "source": [
    "# pivot the volume data into columns\n",
    "volumes = pivotTickersToColumns(raw, \"Volume\")\n",
    "volumes.tail()"
   ]
  },
  {
   "cell_type": "code",
   "execution_count": null,
   "metadata": {
    "collapsed": false
   },
   "outputs": [],
   "source": [
    "# plot the volume for MSFT\n",
    "msftV = volumes[[\"MSFT\"]]\n",
    "plt.bar(msftV.index, msftV[\"MSFT\"])\n",
    "plt.gcf().set_size_inches(15,8)"
   ]
  },
  {
   "cell_type": "code",
   "execution_count": null,
   "metadata": {
    "collapsed": false
   },
   "outputs": [],
   "source": [
    "# draw the price history on the top\n",
    "top = plt.subplot2grid((4,4), (0, 0), rowspan=3, colspan=4)\n",
    "top.plot(close_px['MSFT'].index, close_px['MSFT'], label='MSFT Adjusted Close')\n",
    "plt.title('Microsoft Ajusted Close Price 2012 - 2014')\n",
    "plt.legend(loc=2)\n",
    "\n",
    "# and the volume along the bottom\n",
    "bottom = plt.subplot2grid((4,4), (3,0), rowspan=1, colspan=4)\n",
    "bottom.bar(msftV.index, msftV['MSFT'])\n",
    "plt.title('Microsoft Trading Volume 2012 - 2014')\n",
    "plt.subplots_adjust(hspace=0.75)\n",
    "plt.gcf().set_size_inches(15,8)"
   ]
  },
  {
   "cell_type": "markdown",
   "metadata": {},
   "source": [
    "## Calculating simple daily percentage change"
   ]
  },
  {
   "cell_type": "code",
   "execution_count": null,
   "metadata": {
    "collapsed": false
   },
   "outputs": [],
   "source": [
    "# calculate daily percentage change\n",
    "daily_pc = close_px / close_px.shift(1) - 1\n",
    "daily_pc[:5]"
   ]
  },
  {
   "cell_type": "code",
   "execution_count": null,
   "metadata": {
    "collapsed": false
   },
   "outputs": [],
   "source": [
    "# check the percentage on 2012-01-05\n",
    "close_px.ix['2012-01-05']['AAPL'] / close_px.ix['2012-01-04']['AAPL'] -1"
   ]
  },
  {
   "cell_type": "code",
   "execution_count": null,
   "metadata": {
    "collapsed": false
   },
   "outputs": [],
   "source": [
    "# plot daily percentage change for AAPL\n",
    "daily_pc[\"AAPL\"].plot();"
   ]
  },
  {
   "cell_type": "markdown",
   "metadata": {},
   "source": [
    "## Calculating simple daily cumulative returns"
   ]
  },
  {
   "cell_type": "code",
   "execution_count": null,
   "metadata": {
    "collapsed": false
   },
   "outputs": [],
   "source": [
    "# calculate daily cumulative return\n",
    "daily_cr = (1 + daily_pc).cumprod()\n",
    "daily_cr[:5]"
   ]
  },
  {
   "cell_type": "code",
   "execution_count": null,
   "metadata": {
    "collapsed": false
   },
   "outputs": [],
   "source": [
    "# plot all the cumulative returns to get an idea \n",
    "# of the relative performance of all the stocks\n",
    "daily_cr.plot(figsize=(8,6))\n",
    "plt.legend(loc=2);"
   ]
  },
  {
   "cell_type": "markdown",
   "metadata": {},
   "source": [
    "## Resampling data from daily to monthly returns"
   ]
  },
  {
   "cell_type": "code",
   "execution_count": null,
   "metadata": {
    "collapsed": false
   },
   "outputs": [],
   "source": [
    "# resample to end of month and forward fill values\n",
    "monthly = close_px.asfreq('EOM', method=\"ffill\")\n",
    "monthly[:5]"
   ]
  },
  {
   "cell_type": "code",
   "execution_count": null,
   "metadata": {
    "collapsed": false
   },
   "outputs": [],
   "source": [
    "# calculate the monthly percentage changes\n",
    "monthly_pc = monthly / monthly.shift(1) - 1\n",
    "monthly_pc[:5]"
   ]
  },
  {
   "cell_type": "code",
   "execution_count": null,
   "metadata": {
    "collapsed": false
   },
   "outputs": [],
   "source": [
    "# calculate monthly cumulative return\n",
    "monthly_cr = (1 + monthly_pc).cumprod()\n",
    "monthly_cr[:5]"
   ]
  },
  {
   "cell_type": "code",
   "execution_count": null,
   "metadata": {
    "collapsed": false
   },
   "outputs": [],
   "source": [
    "# plot the monthly cumulative returns\n",
    "monthly_cr.plot(figsize=(12,6))\n",
    "plt.legend(loc=2);"
   ]
  },
  {
   "cell_type": "markdown",
   "metadata": {},
   "source": [
    "## Analyzing distribution of returns"
   ]
  },
  {
   "cell_type": "code",
   "execution_count": null,
   "metadata": {
    "collapsed": false
   },
   "outputs": [],
   "source": [
    "# histogram of the daily percentage change for AAPL\n",
    "aapl = daily_pc['AAPL']\n",
    "aapl.hist(bins=50);"
   ]
  },
  {
   "cell_type": "code",
   "execution_count": null,
   "metadata": {
    "collapsed": false
   },
   "outputs": [],
   "source": [
    "# descriptive statistics of the percentage changes\n",
    "aapl.describe()"
   ]
  },
  {
   "cell_type": "code",
   "execution_count": null,
   "metadata": {
    "collapsed": false
   },
   "outputs": [],
   "source": [
    "# matrix of all stocks daily % changes histograms\n",
    "daily_pc.hist(bins=50, figsize=(8,6));"
   ]
  },
  {
   "cell_type": "markdown",
   "metadata": {},
   "source": [
    "## Performing moving average calculation"
   ]
  },
  {
   "cell_type": "code",
   "execution_count": null,
   "metadata": {
    "collapsed": false
   },
   "outputs": [],
   "source": [
    "# extract just MSFT close\n",
    "msft_close = close_px[['MSFT']]['MSFT']\n",
    "# calculate the 30 and 90 day rolling means\n",
    "ma_30 = pd.stats.moments.rolling_mean(msft_close, 30)\n",
    "ma_90 = pd.stats.moments.rolling_mean(msft_close, 90)\n",
    "# compose into a DataFrame that can be plotted\n",
    "result = pd.DataFrame({'Close': msft_close, \n",
    "                       '30_MA_Close': ma_30,\n",
    "                       '90_MA_Close': ma_90})\n",
    "# plot all the series against each other\n",
    "result.plot(title=\"MSFT Close Price\")\n",
    "plt.gcf().set_size_inches(12,8)"
   ]
  },
  {
   "cell_type": "markdown",
   "metadata": {},
   "source": [
    "## Comparision of average daily returns across stocks"
   ]
  },
  {
   "cell_type": "code",
   "execution_count": null,
   "metadata": {
    "collapsed": false
   },
   "outputs": [],
   "source": [
    "# plot the daily percentage change of MSFT vs AAPL\n",
    "plt.scatter(daily_pc['MSFT'], daily_pc['AAPL'])\n",
    "plt.xlabel('MSFT')\n",
    "plt.ylabel('AAPL');"
   ]
  },
  {
   "cell_type": "code",
   "execution_count": null,
   "metadata": {
    "collapsed": false
   },
   "outputs": [],
   "source": [
    "# demonstrate perfect correlation\n",
    "plt.scatter(daily_pc['MSFT'], daily_pc['MSFT']);"
   ]
  },
  {
   "cell_type": "code",
   "execution_count": null,
   "metadata": {
    "collapsed": false
   },
   "outputs": [],
   "source": [
    "# plot the scatter of daily price changed for ALL stocks\n",
    "pd.scatter_matrix(daily_pc, diagonal='kde', figsize=(12,12));"
   ]
  },
  {
   "cell_type": "markdown",
   "metadata": {},
   "source": [
    "## Correlation of stocks based upon daily percentage change of closing price"
   ]
  },
  {
   "cell_type": "code",
   "execution_count": null,
   "metadata": {
    "collapsed": false
   },
   "outputs": [],
   "source": [
    "# calculate the correlation between all the stocks relative\n",
    "# to daily percentage change\n",
    "corrs = daily_pc.corr()\n",
    "corrs"
   ]
  },
  {
   "cell_type": "code",
   "execution_count": null,
   "metadata": {
    "collapsed": false
   },
   "outputs": [],
   "source": [
    "# plot a heatmap of the correlations\n",
    "plt.imshow(corrs, cmap='hot', interpolation='none')\n",
    "plt.colorbar()\n",
    "plt.xticks(range(len(corrs)), corrs.columns)\n",
    "plt.yticks(range(len(corrs)), corrs.columns)\n",
    "plt.gcf().set_size_inches(8,8)"
   ]
  },
  {
   "cell_type": "markdown",
   "metadata": {},
   "source": [
    "# Volatility"
   ]
  },
  {
   "cell_type": "code",
   "execution_count": null,
   "metadata": {
    "collapsed": false
   },
   "outputs": [],
   "source": [
    "# 75 period minimum\n",
    "min_periods = 75\n",
    "# calculate the volatility\n",
    "vol = pd.stats.moments.rolling_std(daily_pc, min_periods) * \\\n",
    "        np.sqrt(min_periods)\n",
    "# plot it\n",
    "vol.plot(figsize=(10, 8));"
   ]
  },
  {
   "cell_type": "markdown",
   "metadata": {},
   "source": [
    "# Determining risk relative to expected returns"
   ]
  },
  {
   "cell_type": "code",
   "execution_count": null,
   "metadata": {
    "collapsed": false
   },
   "outputs": [],
   "source": [
    "# generate a scatter of the mean vs std of daily % change\n",
    "plt.scatter(daily_pc.mean(), daily_pc.std())\n",
    "plt.xlabel('Expected returns')\n",
    "plt.ylabel('Risk')\n",
    "\n",
    "# this adds fancy labels to each dot, with an arrow too\n",
    "for label, x, y in zip(daily_pc.columns, \n",
    "                       daily_pc.mean(), \n",
    "                       daily_pc.std()):\n",
    "    plt.annotate(\n",
    "        label, \n",
    "        xy = (x, y), xytext = (30, -30),\n",
    "        textcoords = 'offset points', ha = 'right', va = 'bottom',\n",
    "        bbox = dict(boxstyle = 'round,pad=0.5', \n",
    "                    fc = 'yellow', \n",
    "                    alpha = 0.5),\n",
    "        arrowprops = dict(arrowstyle = '->', \n",
    "                          connectionstyle = 'arc3,rad=0'))\n",
    "\n",
    "# set ranges and scales for good presentation\n",
    "plt.xlim(-0.001, 0.003)\n",
    "plt.ylim(0.005, 0.0275)\n",
    "\n",
    "# set size\n",
    "plt.gcf().set_size_inches(8,8)"
   ]
  }
 ],
 "metadata": {
  "kernelspec": {
   "display_name": "Python [default]",
   "language": "python",
   "name": "python3"
  },
  "language_info": {
   "codemirror_mode": {
    "name": "ipython",
    "version": 3
   },
   "file_extension": ".py",
   "mimetype": "text/x-python",
   "name": "python",
   "nbconvert_exporter": "python",
   "pygments_lexer": "ipython3",
   "version": "3.5.2"
  }
 },
 "nbformat": 4,
 "nbformat_minor": 0
}
