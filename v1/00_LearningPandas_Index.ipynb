{
 "metadata": {
  "name": "",
  "signature": "sha256:a429e4bbc7f553a8277f46754d4ca5815010007d7a56e26e8a783038f5b66731"
 },
 "nbformat": 3,
 "nbformat_minor": 0,
 "worksheets": [
  {
   "cells": [
    {
     "cell_type": "heading",
     "level": 1,
     "metadata": {},
     "source": [
      "Welcome to the online notebooks for \"Learning Pandas\""
     ]
    },
    {
     "cell_type": "markdown",
     "metadata": {},
     "source": [
      "[Chapter 1: A Tour of pandas](https://wakari.io/sharing/bundle/LearningPandas/01_A_Tour_of_pandas)"
     ]
    },
    {
     "cell_type": "markdown",
     "metadata": {},
     "source": [
      "[Chapter 3: NumPy for pandas](https://wakari.io/sharing/bundle/LearningPandas/03_NumPy_for_pandas)"
     ]
    },
    {
     "cell_type": "markdown",
     "metadata": {},
     "source": [
      "[Chapter 4: The pandas Series](https://wakari.io/sharing/bundle/LearningPandas/04_The_pandas_Series)"
     ]
    },
    {
     "cell_type": "markdown",
     "metadata": {},
     "source": [
      "[Chapter 5: The pandas DataFrame](https://wakari.io/sharing/bundle/LearningPandas/05_The_pandas_DataFrame)"
     ]
    },
    {
     "cell_type": "markdown",
     "metadata": {},
     "source": [
      "[Chapter 6: Accessing Data](https://wakari.io/sharing/bundle/LearningPandas/06_Accessing_Data)"
     ]
    },
    {
     "cell_type": "markdown",
     "metadata": {},
     "source": [
      "[Chapter 7: Tidying Your Data](https://wakari.io/sharing/bundle/LearningPandas/07_Tidying_Your_Data)"
     ]
    },
    {
     "cell_type": "markdown",
     "metadata": {},
     "source": [
      "[Chapter 8: Reorganizing and Reshaping Data](https://wakari.io/sharing/bundle/LearningPandas/08_Reorganizing_and_Reshaping_Data)"
     ]
    },
    {
     "cell_type": "markdown",
     "metadata": {},
     "source": [
      "[Chapter 9: Grouping and Aggregating](https://wakari.io/sharing/bundle/LearningPandas/09_Grouping_and_Aggregating)"
     ]
    },
    {
     "cell_type": "markdown",
     "metadata": {},
     "source": [
      "[Chapter 10: Time Series Data](https://wakari.io/sharing/bundle/LearningPandas/10_Time_Series_Data)"
     ]
    },
    {
     "cell_type": "markdown",
     "metadata": {},
     "source": [
      "[Chapter 11: Visualization](https://wakari.io/sharing/bundle/LearningPandas/11_Visualization)"
     ]
    },
    {
     "cell_type": "markdown",
     "metadata": {},
     "source": [
      "[Chapter 12: Applications](https://wakari.io/sharing/bundle/LearningPandas/12_Applications)"
     ]
    }
   ],
   "metadata": {}
  }
 ]
}