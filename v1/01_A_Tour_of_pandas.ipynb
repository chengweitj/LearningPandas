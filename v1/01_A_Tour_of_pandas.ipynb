{
 "cells": [
  {
   "cell_type": "markdown",
   "metadata": {},
   "source": [
    "# Importing pandas into your application"
   ]
  },
  {
   "cell_type": "code",
   "execution_count": 31,
   "metadata": {
    "collapsed": false
   },
   "outputs": [
    {
     "name": "stderr",
     "output_type": "stream",
     "text": [
      "/Users/michaelheydt/anaconda/lib/python3.5/site-packages/IPython/core/interactiveshell.py:2881: FutureWarning: \n",
      "mpl_style had been deprecated and will be removed in a future version.\n",
      "Use `matplotlib.pyplot.style.use` instead.\n",
      "\n",
      "  exec(code_obj, self.user_global_ns, self.user_ns)\n"
     ]
    }
   ],
   "source": [
    "# import numpy and pandas, and DataFrame / Series\n",
    "import numpy as np\n",
    "import pandas as pd\n",
    "from pandas import DataFrame, Series\n",
    "\n",
    "# Set some pandas options\n",
    "pd.set_option('display.notebook_repr_html', False)\n",
    "pd.set_option('display.max_columns', 10)\n",
    "pd.set_option('display.max_rows', 10)\n",
    "\n",
    "# And some items for matplotlib\n",
    "%matplotlib inline \n",
    "import matplotlib.pyplot as plt\n",
    "pd.options.display.mpl_style = 'default'"
   ]
  },
  {
   "cell_type": "markdown",
   "metadata": {},
   "source": [
    "# Primary pandas objects"
   ]
  },
  {
   "cell_type": "markdown",
   "metadata": {},
   "source": [
    "## The pandas Series"
   ]
  },
  {
   "cell_type": "code",
   "execution_count": 32,
   "metadata": {
    "collapsed": false
   },
   "outputs": [
    {
     "data": {
      "text/plain": [
       "0    1\n",
       "1    2\n",
       "2    3\n",
       "3    4\n",
       "dtype: int64"
      ]
     },
     "execution_count": 32,
     "metadata": {},
     "output_type": "execute_result"
    }
   ],
   "source": [
    "# create a four item Series\n",
    "s = Series([1, 2, 3, 4])\n",
    "s"
   ]
  },
  {
   "cell_type": "code",
   "execution_count": 33,
   "metadata": {
    "collapsed": false
   },
   "outputs": [
    {
     "data": {
      "text/plain": [
       "1    2\n",
       "3    4\n",
       "dtype: int64"
      ]
     },
     "execution_count": 33,
     "metadata": {},
     "output_type": "execute_result"
    }
   ],
   "source": [
    "# return a Series with the row with labels 1 and 3\n",
    "s[[1, 3]]"
   ]
  },
  {
   "cell_type": "code",
   "execution_count": 34,
   "metadata": {
    "collapsed": false
   },
   "outputs": [
    {
     "data": {
      "text/plain": [
       "a    1\n",
       "b    2\n",
       "c    3\n",
       "d    4\n",
       "dtype: int64"
      ]
     },
     "execution_count": 34,
     "metadata": {},
     "output_type": "execute_result"
    }
   ],
   "source": [
    "# create a series using an explicit index\n",
    "s = Series([1, 2, 3, 4], \n",
    "           index = ['a', 'b', 'c', 'd'])\n",
    "s"
   ]
  },
  {
   "cell_type": "code",
   "execution_count": 35,
   "metadata": {
    "collapsed": false
   },
   "outputs": [
    {
     "data": {
      "text/plain": [
       "a    1\n",
       "d    4\n",
       "dtype: int64"
      ]
     },
     "execution_count": 35,
     "metadata": {},
     "output_type": "execute_result"
    }
   ],
   "source": [
    "# look up items the series having index 'a' and 'd'\n",
    "s[['a', 'd']]"
   ]
  },
  {
   "cell_type": "code",
   "execution_count": 36,
   "metadata": {
    "collapsed": false
   },
   "outputs": [
    {
     "data": {
      "text/plain": [
       "b    2\n",
       "c    3\n",
       "dtype: int64"
      ]
     },
     "execution_count": 36,
     "metadata": {},
     "output_type": "execute_result"
    }
   ],
   "source": [
    "# passing a list of integers to a Series that has\n",
    "# non-integer index labels will look up based upon\n",
    "# 0-based index like an array\n",
    "s[[1, 2]]"
   ]
  },
  {
   "cell_type": "code",
   "execution_count": 37,
   "metadata": {
    "collapsed": false
   },
   "outputs": [
    {
     "data": {
      "text/plain": [
       "Index(['a', 'b', 'c', 'd'], dtype='object')"
      ]
     },
     "execution_count": 37,
     "metadata": {},
     "output_type": "execute_result"
    }
   ],
   "source": [
    "# get only the index of the Series\n",
    "s.index"
   ]
  },
  {
   "cell_type": "code",
   "execution_count": 38,
   "metadata": {
    "collapsed": false
   },
   "outputs": [
    {
     "data": {
      "text/plain": [
       "DatetimeIndex(['2014-07-01', '2014-07-02', '2014-07-03', '2014-07-04',\n",
       "               '2014-07-05', '2014-07-06'],\n",
       "              dtype='datetime64[ns]', freq='D')"
      ]
     },
     "execution_count": 38,
     "metadata": {},
     "output_type": "execute_result"
    }
   ],
   "source": [
    "# create a Series who's index is a series of dates\n",
    "# between the two specified dates (inclusive)\n",
    "dates = pd.date_range('2014-07-01', '2014-07-06')\n",
    "dates"
   ]
  },
  {
   "cell_type": "code",
   "execution_count": 39,
   "metadata": {
    "collapsed": false
   },
   "outputs": [
    {
     "data": {
      "text/plain": [
       "2014-07-01    80\n",
       "2014-07-02    82\n",
       "2014-07-03    85\n",
       "2014-07-04    90\n",
       "2014-07-05    83\n",
       "2014-07-06    87\n",
       "Freq: D, dtype: int64"
      ]
     },
     "execution_count": 39,
     "metadata": {},
     "output_type": "execute_result"
    }
   ],
   "source": [
    "# create a Series with values (representing temperatures)\n",
    "# for each date in the index\n",
    "temps1 = Series([80, 82, 85, 90, 83, 87], \n",
    "                index = dates)\n",
    "temps1"
   ]
  },
  {
   "cell_type": "code",
   "execution_count": 40,
   "metadata": {
    "collapsed": false
   },
   "outputs": [
    {
     "data": {
      "text/plain": [
       "84.5"
      ]
     },
     "execution_count": 40,
     "metadata": {},
     "output_type": "execute_result"
    }
   ],
   "source": [
    "# calculate the mean of the values in the Series\n",
    "temps1.mean()"
   ]
  },
  {
   "cell_type": "code",
   "execution_count": 41,
   "metadata": {
    "collapsed": false
   },
   "outputs": [
    {
     "data": {
      "text/plain": [
       "2014-07-01    10\n",
       "2014-07-02     7\n",
       "2014-07-03    16\n",
       "2014-07-04     7\n",
       "2014-07-05     4\n",
       "2014-07-06    10\n",
       "Freq: D, dtype: int64"
      ]
     },
     "execution_count": 41,
     "metadata": {},
     "output_type": "execute_result"
    }
   ],
   "source": [
    "# create a second series of values using the same index\n",
    "temps2 = Series([70, 75, 69, 83, 79, 77], \n",
    "                index = dates)\n",
    "# the following aligns the two by their index values\n",
    "# and calculates the difference at those matching labels\n",
    "temp_diffs = temps1 - temps2\n",
    "temp_diffs"
   ]
  },
  {
   "cell_type": "code",
   "execution_count": 42,
   "metadata": {
    "collapsed": false
   },
   "outputs": [
    {
     "data": {
      "text/plain": [
       "16"
      ]
     },
     "execution_count": 42,
     "metadata": {},
     "output_type": "execute_result"
    }
   ],
   "source": [
    "# lookup a value by date using the index\n",
    "temp_diffs['2014-07-03']"
   ]
  },
  {
   "cell_type": "code",
   "execution_count": 43,
   "metadata": {
    "collapsed": false
   },
   "outputs": [
    {
     "data": {
      "text/plain": [
       "16"
      ]
     },
     "execution_count": 43,
     "metadata": {},
     "output_type": "execute_result"
    }
   ],
   "source": [
    "# and also possible by integer position as if the \n",
    "# series was an array\n",
    "temp_diffs[2]"
   ]
  },
  {
   "cell_type": "markdown",
   "metadata": {},
   "source": [
    "## The pandas DataFrame"
   ]
  },
  {
   "cell_type": "code",
   "execution_count": 44,
   "metadata": {
    "collapsed": false
   },
   "outputs": [
    {
     "data": {
      "text/plain": [
       "            Missoula  Philadelphia\n",
       "2014-07-01        80            70\n",
       "2014-07-02        82            75\n",
       "2014-07-03        85            69\n",
       "2014-07-04        90            83\n",
       "2014-07-05        83            79\n",
       "2014-07-06        87            77"
      ]
     },
     "execution_count": 44,
     "metadata": {},
     "output_type": "execute_result"
    }
   ],
   "source": [
    "# create a DataFrame from the two series objects temp1 and temp2\n",
    "# and give them column names\n",
    "temps_df = DataFrame(\n",
    "            {'Missoula': temps1, \n",
    "             'Philadelphia': temps2})\n",
    "temps_df"
   ]
  },
  {
   "cell_type": "code",
   "execution_count": 45,
   "metadata": {
    "collapsed": false
   },
   "outputs": [
    {
     "data": {
      "text/plain": [
       "2014-07-01    80\n",
       "2014-07-02    82\n",
       "2014-07-03    85\n",
       "2014-07-04    90\n",
       "2014-07-05    83\n",
       "2014-07-06    87\n",
       "Freq: D, Name: Missoula, dtype: int64"
      ]
     },
     "execution_count": 45,
     "metadata": {},
     "output_type": "execute_result"
    }
   ],
   "source": [
    "# get the column with the name Missoula\n",
    "temps_df['Missoula']"
   ]
  },
  {
   "cell_type": "code",
   "execution_count": 46,
   "metadata": {
    "collapsed": false
   },
   "outputs": [
    {
     "data": {
      "text/plain": [
       "2014-07-01    70\n",
       "2014-07-02    75\n",
       "2014-07-03    69\n",
       "2014-07-04    83\n",
       "2014-07-05    79\n",
       "2014-07-06    77\n",
       "Freq: D, Name: Philadelphia, dtype: int64"
      ]
     },
     "execution_count": 46,
     "metadata": {},
     "output_type": "execute_result"
    }
   ],
   "source": [
    "# likewise we can get just the Philadelphia column\n",
    "temps_df['Philadelphia']"
   ]
  },
  {
   "cell_type": "code",
   "execution_count": 47,
   "metadata": {
    "collapsed": false
   },
   "outputs": [
    {
     "data": {
      "text/plain": [
       "            Philadelphia  Missoula\n",
       "2014-07-01            70        80\n",
       "2014-07-02            75        82\n",
       "2014-07-03            69        85\n",
       "2014-07-04            83        90\n",
       "2014-07-05            79        83\n",
       "2014-07-06            77        87"
      ]
     },
     "execution_count": 47,
     "metadata": {},
     "output_type": "execute_result"
    }
   ],
   "source": [
    "# return both columns in a different order\n",
    "temps_df[['Philadelphia', 'Missoula']]"
   ]
  },
  {
   "cell_type": "code",
   "execution_count": 48,
   "metadata": {
    "collapsed": false
   },
   "outputs": [
    {
     "data": {
      "text/plain": [
       "2014-07-01    80\n",
       "2014-07-02    82\n",
       "2014-07-03    85\n",
       "2014-07-04    90\n",
       "2014-07-05    83\n",
       "2014-07-06    87\n",
       "Freq: D, Name: Missoula, dtype: int64"
      ]
     },
     "execution_count": 48,
     "metadata": {},
     "output_type": "execute_result"
    }
   ],
   "source": [
    "# retrieve the Missoula column through property syntax\n",
    "temps_df.Missoula"
   ]
  },
  {
   "cell_type": "code",
   "execution_count": 49,
   "metadata": {
    "collapsed": false
   },
   "outputs": [
    {
     "data": {
      "text/plain": [
       "2014-07-01    10\n",
       "2014-07-02     7\n",
       "2014-07-03    16\n",
       "2014-07-04     7\n",
       "2014-07-05     4\n",
       "2014-07-06    10\n",
       "Freq: D, dtype: int64"
      ]
     },
     "execution_count": 49,
     "metadata": {},
     "output_type": "execute_result"
    }
   ],
   "source": [
    "# calculate the temperature difference between the two cities\n",
    "temps_df.Missoula - temps_df.Philadelphia"
   ]
  },
  {
   "cell_type": "code",
   "execution_count": 50,
   "metadata": {
    "collapsed": false
   },
   "outputs": [
    {
     "data": {
      "text/plain": [
       "            Missoula  Philadelphia  Difference\n",
       "2014-07-01        80            70          10\n",
       "2014-07-02        82            75           7\n",
       "2014-07-03        85            69          16\n",
       "2014-07-04        90            83           7\n",
       "2014-07-05        83            79           4\n",
       "2014-07-06        87            77          10"
      ]
     },
     "execution_count": 50,
     "metadata": {},
     "output_type": "execute_result"
    }
   ],
   "source": [
    "# add a column to temp_df which contains the difference in temps\n",
    "temps_df['Difference'] = temp_diffs\n",
    "temps_df"
   ]
  },
  {
   "cell_type": "code",
   "execution_count": 51,
   "metadata": {
    "collapsed": false
   },
   "outputs": [
    {
     "data": {
      "text/plain": [
       "Index(['Missoula', 'Philadelphia', 'Difference'], dtype='object')"
      ]
     },
     "execution_count": 51,
     "metadata": {},
     "output_type": "execute_result"
    }
   ],
   "source": [
    "# get the columns, which is also an Index object\n",
    "temps_df.columns"
   ]
  },
  {
   "cell_type": "code",
   "execution_count": 52,
   "metadata": {
    "collapsed": false
   },
   "outputs": [
    {
     "data": {
      "text/plain": [
       "2014-07-02     7\n",
       "2014-07-03    16\n",
       "2014-07-04     7\n",
       "Freq: D, Name: Difference, dtype: int64"
      ]
     },
     "execution_count": 52,
     "metadata": {},
     "output_type": "execute_result"
    }
   ],
   "source": [
    "# slice the temp differences column for the rows at \n",
    "# location 1 through 4 (as though it is an array)\n",
    "temps_df.Difference[1:4]"
   ]
  },
  {
   "cell_type": "code",
   "execution_count": 53,
   "metadata": {
    "collapsed": false
   },
   "outputs": [
    {
     "data": {
      "text/plain": [
       "Missoula        82\n",
       "Philadelphia    75\n",
       "Difference       7\n",
       "Name: 2014-07-02 00:00:00, dtype: int64"
      ]
     },
     "execution_count": 53,
     "metadata": {},
     "output_type": "execute_result"
    }
   ],
   "source": [
    "# get the row at array position 1\n",
    "temps_df.iloc[1]"
   ]
  },
  {
   "cell_type": "code",
   "execution_count": 54,
   "metadata": {
    "collapsed": false
   },
   "outputs": [
    {
     "data": {
      "text/plain": [
       "Index(['Missoula', 'Philadelphia', 'Difference'], dtype='object')"
      ]
     },
     "execution_count": 54,
     "metadata": {},
     "output_type": "execute_result"
    }
   ],
   "source": [
    "# the names of the columns have become the index\n",
    "# they have been 'pivoted'\n",
    "temps_df.ix[1].index"
   ]
  },
  {
   "cell_type": "code",
   "execution_count": 55,
   "metadata": {
    "collapsed": false
   },
   "outputs": [
    {
     "data": {
      "text/plain": [
       "Missoula        85\n",
       "Philadelphia    69\n",
       "Difference      16\n",
       "Name: 2014-07-03 00:00:00, dtype: int64"
      ]
     },
     "execution_count": 55,
     "metadata": {},
     "output_type": "execute_result"
    }
   ],
   "source": [
    "# retrieve row by index label using .loc\n",
    "temps_df.loc['2014-07-03']"
   ]
  },
  {
   "cell_type": "code",
   "execution_count": 56,
   "metadata": {
    "collapsed": false
   },
   "outputs": [
    {
     "data": {
      "text/plain": [
       "2014-07-02     7\n",
       "2014-07-04     7\n",
       "2014-07-06    10\n",
       "Freq: 2D, Name: Difference, dtype: int64"
      ]
     },
     "execution_count": 56,
     "metadata": {},
     "output_type": "execute_result"
    }
   ],
   "source": [
    "# get the values in the Differences column in tows 1, 3 and 5\n",
    "# using 0-based location\n",
    "temps_df.iloc[[1, 3, 5]].Difference"
   ]
  },
  {
   "cell_type": "code",
   "execution_count": 57,
   "metadata": {
    "collapsed": false
   },
   "outputs": [
    {
     "data": {
      "text/plain": [
       "2014-07-01    False\n",
       "2014-07-02    False\n",
       "2014-07-03     True\n",
       "2014-07-04     True\n",
       "2014-07-05     True\n",
       "2014-07-06     True\n",
       "Freq: D, Name: Missoula, dtype: bool"
      ]
     },
     "execution_count": 57,
     "metadata": {},
     "output_type": "execute_result"
    }
   ],
   "source": [
    "# which values in the Missoula column are > 82?\n",
    "temps_df.Missoula > 82"
   ]
  },
  {
   "cell_type": "code",
   "execution_count": 58,
   "metadata": {
    "collapsed": false
   },
   "outputs": [
    {
     "data": {
      "text/plain": [
       "            Missoula  Philadelphia  Difference\n",
       "2014-07-03        85            69          16\n",
       "2014-07-04        90            83           7\n",
       "2014-07-05        83            79           4\n",
       "2014-07-06        87            77          10"
      ]
     },
     "execution_count": 58,
     "metadata": {},
     "output_type": "execute_result"
    }
   ],
   "source": [
    "# return the rows where the temps for Missoula > 82\n",
    "temps_df[temps_df.Missoula > 82]"
   ]
  },
  {
   "cell_type": "markdown",
   "metadata": {},
   "source": [
    "# Loading data from files and the web into a DataFrame"
   ]
  },
  {
   "cell_type": "code",
   "execution_count": 59,
   "metadata": {
    "collapsed": false
   },
   "outputs": [
    {
     "name": "stdout",
     "output_type": "stream",
     "text": [
      "date,0,1,2\r\n",
      "2000-01-01 00:00:00,1.10376250134,-1.90997889703,-0.808955536115\r\n",
      "2000-01-02 00:00:00,1.18891664768,0.581119740849,0.86159734949\r\n",
      "2000-01-03 00:00:00,-0.964200042412,0.779764393246,1.82906224532\r\n",
      "2000-01-04 00:00:00,0.782130444001,-1.72066965573,-1.10824167327\r\n",
      "2000-01-05 00:00:00,-1.86701699823,-0.528368292754,-2.48830894087\r\n",
      "2000-01-06 00:00:00,2.56928022646,-0.471901478927,-0.835033249865\r\n",
      "2000-01-07 00:00:00,-0.39932258251,-0.676426550985,-0.0112559158931\r\n",
      "2000-01-08 00:00:00,1.64299299394,1.01341997845,1.43566709724\r\n",
      "2000-01-09 00:00:00,1.14730764657,2.13799951538,0.554171306191\r\n",
      "2000-01-10 00:00:00,0.933765825769,1.38715526486,-0.560142729978\r\n"
     ]
    }
   ],
   "source": [
    "# display the contents of test1.csv\n",
    "# which command to use depends on your OS\n",
    "!cat data/test1.csv # on non-windows systems\n",
    "#!type data/test1.csv # on windows systems"
   ]
  },
  {
   "cell_type": "code",
   "execution_count": 60,
   "metadata": {
    "collapsed": false
   },
   "outputs": [
    {
     "data": {
      "text/plain": [
       "                  date         0         1         2\n",
       "0  2000-01-01 00:00:00  1.103763 -1.909979 -0.808956\n",
       "1  2000-01-02 00:00:00  1.188917  0.581120  0.861597\n",
       "2  2000-01-03 00:00:00 -0.964200  0.779764  1.829062\n",
       "3  2000-01-04 00:00:00  0.782130 -1.720670 -1.108242\n",
       "4  2000-01-05 00:00:00 -1.867017 -0.528368 -2.488309\n",
       "5  2000-01-06 00:00:00  2.569280 -0.471901 -0.835033\n",
       "6  2000-01-07 00:00:00 -0.399323 -0.676427 -0.011256\n",
       "7  2000-01-08 00:00:00  1.642993  1.013420  1.435667\n",
       "8  2000-01-09 00:00:00  1.147308  2.138000  0.554171\n",
       "9  2000-01-10 00:00:00  0.933766  1.387155 -0.560143"
      ]
     },
     "execution_count": 60,
     "metadata": {},
     "output_type": "execute_result"
    }
   ],
   "source": [
    "# read the contents of the file into a DataFrame\n",
    "df = pd.read_csv('data/test1.csv')\n",
    "df"
   ]
  },
  {
   "cell_type": "code",
   "execution_count": 61,
   "metadata": {
    "collapsed": false
   },
   "outputs": [
    {
     "data": {
      "text/plain": [
       "0    2000-01-01 00:00:00\n",
       "1    2000-01-02 00:00:00\n",
       "2    2000-01-03 00:00:00\n",
       "3    2000-01-04 00:00:00\n",
       "4    2000-01-05 00:00:00\n",
       "5    2000-01-06 00:00:00\n",
       "6    2000-01-07 00:00:00\n",
       "7    2000-01-08 00:00:00\n",
       "8    2000-01-09 00:00:00\n",
       "9    2000-01-10 00:00:00\n",
       "Name: date, dtype: object"
      ]
     },
     "execution_count": 61,
     "metadata": {},
     "output_type": "execute_result"
    }
   ],
   "source": [
    "# the contents of the date column\n",
    "df.date"
   ]
  },
  {
   "cell_type": "code",
   "execution_count": 62,
   "metadata": {
    "collapsed": false
   },
   "outputs": [
    {
     "data": {
      "text/plain": [
       "'2000-01-01 00:00:00'"
      ]
     },
     "execution_count": 62,
     "metadata": {},
     "output_type": "execute_result"
    }
   ],
   "source": [
    "# we can get the first value in the date column\n",
    "df.date[0]"
   ]
  },
  {
   "cell_type": "code",
   "execution_count": 63,
   "metadata": {
    "collapsed": false
   },
   "outputs": [
    {
     "data": {
      "text/plain": [
       "str"
      ]
     },
     "execution_count": 63,
     "metadata": {},
     "output_type": "execute_result"
    }
   ],
   "source": [
    "# it is a string\n",
    "type(df.date[0])"
   ]
  },
  {
   "cell_type": "code",
   "execution_count": 64,
   "metadata": {
    "collapsed": false
   },
   "outputs": [
    {
     "data": {
      "text/plain": [
       "        date         0         1         2\n",
       "0 2000-01-01  1.103763 -1.909979 -0.808956\n",
       "1 2000-01-02  1.188917  0.581120  0.861597\n",
       "2 2000-01-03 -0.964200  0.779764  1.829062\n",
       "3 2000-01-04  0.782130 -1.720670 -1.108242\n",
       "4 2000-01-05 -1.867017 -0.528368 -2.488309\n",
       "5 2000-01-06  2.569280 -0.471901 -0.835033\n",
       "6 2000-01-07 -0.399323 -0.676427 -0.011256\n",
       "7 2000-01-08  1.642993  1.013420  1.435667\n",
       "8 2000-01-09  1.147308  2.138000  0.554171\n",
       "9 2000-01-10  0.933766  1.387155 -0.560143"
      ]
     },
     "execution_count": 64,
     "metadata": {},
     "output_type": "execute_result"
    }
   ],
   "source": [
    "# read the data and tell pandas the date column should be \n",
    "# a date in the resulting DataFrame\n",
    "df = pd.read_csv('data/test1.csv', parse_dates=['date'])\n",
    "df"
   ]
  },
  {
   "cell_type": "code",
   "execution_count": 65,
   "metadata": {
    "collapsed": false
   },
   "outputs": [
    {
     "data": {
      "text/plain": [
       "pandas.tslib.Timestamp"
      ]
     },
     "execution_count": 65,
     "metadata": {},
     "output_type": "execute_result"
    }
   ],
   "source": [
    "# verify the type now is date\n",
    "# in pandas, this is actually a Timestamp\n",
    "type(df.date[0])"
   ]
  },
  {
   "cell_type": "code",
   "execution_count": 66,
   "metadata": {
    "collapsed": false
   },
   "outputs": [
    {
     "data": {
      "text/plain": [
       "RangeIndex(start=0, stop=10, step=1)"
      ]
     },
     "execution_count": 66,
     "metadata": {},
     "output_type": "execute_result"
    }
   ],
   "source": [
    "# unfortunately the index is numeric which makes\n",
    "# accessing data by date more complicated\n",
    "df.index"
   ]
  },
  {
   "cell_type": "code",
   "execution_count": 67,
   "metadata": {
    "collapsed": false
   },
   "outputs": [
    {
     "data": {
      "text/plain": [
       "                   0         1         2\n",
       "date                                    \n",
       "2000-01-01  1.103763 -1.909979 -0.808956\n",
       "2000-01-02  1.188917  0.581120  0.861597\n",
       "2000-01-03 -0.964200  0.779764  1.829062\n",
       "2000-01-04  0.782130 -1.720670 -1.108242\n",
       "2000-01-05 -1.867017 -0.528368 -2.488309\n",
       "2000-01-06  2.569280 -0.471901 -0.835033\n",
       "2000-01-07 -0.399323 -0.676427 -0.011256\n",
       "2000-01-08  1.642993  1.013420  1.435667\n",
       "2000-01-09  1.147308  2.138000  0.554171\n",
       "2000-01-10  0.933766  1.387155 -0.560143"
      ]
     },
     "execution_count": 67,
     "metadata": {},
     "output_type": "execute_result"
    }
   ],
   "source": [
    "# read in again, now specity the data column as being the \n",
    "# index of the resulting DataFrame\n",
    "df = pd.read_csv('data/test1.csv', \n",
    "                 parse_dates=['date'], \n",
    "                 index_col='date')\n",
    "df"
   ]
  },
  {
   "cell_type": "code",
   "execution_count": 68,
   "metadata": {
    "collapsed": false
   },
   "outputs": [
    {
     "data": {
      "text/plain": [
       "DatetimeIndex(['2000-01-01', '2000-01-02', '2000-01-03', '2000-01-04',\n",
       "               '2000-01-05', '2000-01-06', '2000-01-07', '2000-01-08',\n",
       "               '2000-01-09', '2000-01-10'],\n",
       "              dtype='datetime64[ns]', name='date', freq=None)"
      ]
     },
     "execution_count": 68,
     "metadata": {},
     "output_type": "execute_result"
    }
   ],
   "source": [
    "# and the index is now a DatetimeIndex\n",
    "df.index"
   ]
  },
  {
   "cell_type": "code",
   "execution_count": 69,
   "metadata": {
    "collapsed": false
   },
   "outputs": [
    {
     "name": "stderr",
     "output_type": "stream",
     "text": [
      "/Users/michaelheydt/anaconda/lib/python3.5/site-packages/pandas/io/data.py:35: FutureWarning: \n",
      "The pandas.io.data module is moved to a separate package (pandas-datareader) and will be removed from pandas in a future version.\n",
      "After installing the pandas-datareader package (https://github.com/pydata/pandas-datareader), you can change the import ``from pandas.io import data, wb`` to ``from pandas_datareader import data, wb``.\n",
      "  FutureWarning)\n"
     ]
    },
    {
     "data": {
      "text/plain": [
       "                  Open        High         Low       Close   Volume  \\\n",
       "Date                                                                  \n",
       "2017-01-23  807.250000  820.869995  803.739990  819.309998  1901600   \n",
       "2017-01-24  822.299988  825.900024  817.820984  823.869995  1461000   \n",
       "2017-01-25  829.619995  835.770020  825.059998  835.669983  1494500   \n",
       "2017-01-26  837.809998  838.000000  827.010010  832.150024  2734400   \n",
       "2017-01-27  834.710022  841.950012  820.440002  823.309998  2951800   \n",
       "\n",
       "             Adj Close  \n",
       "Date                    \n",
       "2017-01-23  819.309998  \n",
       "2017-01-24  823.869995  \n",
       "2017-01-25  835.669983  \n",
       "2017-01-26  832.150024  \n",
       "2017-01-27  823.309998  "
      ]
     },
     "execution_count": 69,
     "metadata": {},
     "output_type": "execute_result"
    }
   ],
   "source": [
    "# imports for reading data from Yahoo!\n",
    "from pandas.io.data import DataReader\n",
    "from datetime import date\n",
    "from dateutil.relativedelta import relativedelta\n",
    "\n",
    "# read the last three months of data for GOOG\n",
    "goog = DataReader(\"GOOG\",  \"yahoo\", \n",
    "                  date.today() + \n",
    "                  relativedelta(months=-3))\n",
    "\n",
    "# the result is a DataFrame\n",
    "#and this gives us the 5 most recent prices\n",
    "goog.tail()"
   ]
  },
  {
   "cell_type": "markdown",
   "metadata": {},
   "source": [
    "# Visualizing Data"
   ]
  },
  {
   "cell_type": "code",
   "execution_count": 70,
   "metadata": {
    "collapsed": false
   },
   "outputs": [
    {
     "data": {
      "image/png": "[encoded data removed]",
      "text/plain": [
       "<matplotlib.figure.Figure at 0x115393cf8>"
      ]
     },
     "metadata": {},
     "output_type": "display_data"
    }
   ],
   "source": [
    "# plot the Adj Close values we just read in\n",
    "goog.plot(y='Adj Close', figsize=(12,8));\n",
    "plt.savefig('5128OS_01_02.png', bbox_inches='tight', dpi=300)"
   ]
  }
 ],
 "metadata": {
  "anaconda-cloud": {},
  "kernelspec": {
   "display_name": "Python [default]",
   "language": "python",
   "name": "python3"
  },
  "language_info": {
   "codemirror_mode": {
    "name": "ipython",
    "version": 3
   },
   "file_extension": ".py",
   "mimetype": "text/x-python",
   "name": "python",
   "nbconvert_exporter": "python",
   "pygments_lexer": "ipython3",
   "version": "3.5.2"
  }
 },
 "nbformat": 4,
 "nbformat_minor": 0
}
